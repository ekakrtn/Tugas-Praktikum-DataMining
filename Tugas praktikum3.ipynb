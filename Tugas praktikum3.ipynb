{
 "cells": [
  {
   "cell_type": "code",
   "execution_count": 1,
   "id": "edd11a9b-f868-4914-adcb-1d9daf5dbf7a",
   "metadata": {},
   "outputs": [
    {
     "name": "stdout",
     "output_type": "stream",
     "text": [
      "    No Tanggal Kode Pelanggan Nama Pelanggan Kode Produk    Nama Produk  Qty  \\\n",
      "0    1   1-Aug          NF-01     Toko Nofri        B-05   Besi 5 Meter  340   \n",
      "1    2   1-Aug          AN-02     Toko Anton        B-10  Besi 10 Meter  140   \n",
      "2    3   1-Aug          CT-03   Toko Central         P-5   Pipa 5 Meter  560   \n",
      "3    4   2-Aug          CT-03   Toko Central        P-10  Pipa 10 Meter  230   \n",
      "4    5   2-Aug          AN-02     Toko Anton        B-05   Besi 5 Meter  770   \n",
      "5    6   2-Aug          NF-01     Toko Nofri        B-10  Besi 10 Meter  780   \n",
      "6    7   2-Aug          AN-02     Toko Anton         P-5   Pipa 5 Meter  300   \n",
      "7    8   2-Aug          NF-01     Toko Nofri        P-10  Pipa 10 Meter  790   \n",
      "8    9   2-Aug          CT-03   Toko Central        B-05   Besi 5 Meter  440   \n",
      "9   10   2-Aug          AN-02     Toko Anton        B-10  Besi 10 Meter  130   \n",
      "10  11   3-Aug          NF-01     Toko Nofri         P-5   Pipa 5 Meter  360   \n",
      "11  12   3-Aug          NF-01     Toko Nofri        P-10  Pipa 10 Meter  120   \n",
      "12  13   3-Aug          AN-02     Toko Anton         P-5   Pipa 5 Meter  120   \n",
      "13  14   3-Aug          NF-01     Toko Nofri        P-10  Pipa 10 Meter  720   \n",
      "14  15   3-Aug          CT-03   Toko Central        P-10  Pipa 10 Meter  250   \n",
      "\n",
      "    Harga Satuan  Total Penjualan  Diskon  Penjualan Bersih  \n",
      "0         200000         68000000     0.1          61200000  \n",
      "1         375000         52500000     0.0          52500000  \n",
      "2         100000         56000000     0.2          44800000  \n",
      "3         185000         42550000     0.1          38295000  \n",
      "4         200000        154000000     0.2         123200000  \n",
      "5         375000        292500000     0.2         234000000  \n",
      "6         100000         30000000     0.1          27000000  \n",
      "7         185000        146150000     0.2         116920000  \n",
      "8         200000         88000000     0.1          79200000  \n",
      "9         375000         48750000     0.0          48750000  \n",
      "10        100000         36000000     0.1          32400000  \n",
      "11        185000         22200000     0.0          22200000  \n",
      "12        100000         12000000     0.0          12000000  \n",
      "13        185000        133200000     0.2         106560000  \n",
      "14        185000         46250000     0.1          41625000  \n"
     ]
    }
   ],
   "source": [
    "import pandas as pd\n",
    "import numpy as np\n",
    "df = pd.read_csv('Data2.csv')\n",
    "print(df)"
   ]
  },
  {
   "cell_type": "code",
   "execution_count": 2,
   "id": "ae06c9c8-1bbf-4be9-8ad2-2e13be1d6fe0",
   "metadata": {},
   "outputs": [
    {
     "data": {
      "text/plain": [
       "np.float64(81873333.33333333)"
      ]
     },
     "execution_count": 2,
     "metadata": {},
     "output_type": "execute_result"
    }
   ],
   "source": [
    "df['Total Penjualan'].mean()"
   ]
  },
  {
   "cell_type": "code",
   "execution_count": 3,
   "id": "26bd43f8-3b57-4a95-824d-0cf2fbf98656",
   "metadata": {},
   "outputs": [
    {
     "data": {
      "text/plain": [
       "0      12000000\n",
       "1      22200000\n",
       "2      30000000\n",
       "3      36000000\n",
       "4      42550000\n",
       "5      46250000\n",
       "6      48750000\n",
       "7      52500000\n",
       "8      56000000\n",
       "9      68000000\n",
       "10     88000000\n",
       "11    133200000\n",
       "12    146150000\n",
       "13    154000000\n",
       "14    292500000\n",
       "Name: Total Penjualan, dtype: int64"
      ]
     },
     "execution_count": 3,
     "metadata": {},
     "output_type": "execute_result"
    }
   ],
   "source": [
    "df['Total Penjualan'].mode()"
   ]
  },
  {
   "cell_type": "code",
   "execution_count": 4,
   "id": "b00e17a9-d77f-4cde-9351-e84cfc100e80",
   "metadata": {},
   "outputs": [
    {
     "data": {
      "text/plain": [
       "np.float64(52500000.0)"
      ]
     },
     "execution_count": 4,
     "metadata": {},
     "output_type": "execute_result"
    }
   ],
   "source": [
    "df['Total Penjualan'].median()"
   ]
  },
  {
   "cell_type": "code",
   "execution_count": 5,
   "id": "8816243c-7967-4929-9f66-cbc557c58437",
   "metadata": {},
   "outputs": [
    {
     "name": "stdout",
     "output_type": "stream",
     "text": [
      "Q1 :  39275000.0\n",
      "Q3 :  110600000.0\n",
      "IQR :  71325000.0\n"
     ]
    }
   ],
   "source": [
    "q1 = df['Total Penjualan'].quantile(0.25)\n",
    "print(\"Q1 : \" ,q1)\n",
    "  \n",
    "q3 = df['Total Penjualan'].quantile(0.75)\n",
    "print(\"Q3 : \", q3)\n",
    "\n",
    "iqr = q3 - q1\n",
    "print(\"IQR : \", iqr)"
   ]
  },
  {
   "cell_type": "code",
   "execution_count": 6,
   "id": "bebc406a-aa41-4b6f-bdb3-dd1153e1f3f8",
   "metadata": {},
   "outputs": [
    {
     "data": {
      "text/plain": [
       "No                  0\n",
       "Tanggal             0\n",
       "Kode Pelanggan      0\n",
       "Nama Pelanggan      0\n",
       "Kode Produk         0\n",
       "Nama Produk         0\n",
       "Qty                 0\n",
       "Harga Satuan        0\n",
       "Total Penjualan     0\n",
       "Diskon              0\n",
       "Penjualan Bersih    0\n",
       "dtype: int64"
      ]
     },
     "execution_count": 6,
     "metadata": {},
     "output_type": "execute_result"
    }
   ],
   "source": [
    "df.isnull().sum()"
   ]
  },
  {
   "cell_type": "code",
   "execution_count": 31,
   "id": "789991e0-da40-42ff-9ddf-08a72ce8c13d",
   "metadata": {},
   "outputs": [
    {
     "data": {
      "text/html": [
       "<div>\n",
       "<style scoped>\n",
       "    .dataframe tbody tr th:only-of-type {\n",
       "        vertical-align: middle;\n",
       "    }\n",
       "\n",
       "    .dataframe tbody tr th {\n",
       "        vertical-align: top;\n",
       "    }\n",
       "\n",
       "    .dataframe thead th {\n",
       "        text-align: right;\n",
       "    }\n",
       "</style>\n",
       "<table border=\"1\" class=\"dataframe\">\n",
       "  <thead>\n",
       "    <tr style=\"text-align: right;\">\n",
       "      <th></th>\n",
       "      <th>No</th>\n",
       "      <th>Tanggal</th>\n",
       "      <th>Kode Pelanggan</th>\n",
       "      <th>Kode Produk</th>\n",
       "      <th>Nama Produk</th>\n",
       "      <th>Qty</th>\n",
       "      <th>Harga Satuan</th>\n",
       "      <th>Total Penjualan</th>\n",
       "      <th>Diskon</th>\n",
       "      <th>Penjualan Bersih</th>\n",
       "      <th>Penjualan Bersih Min-Max</th>\n",
       "      <th>Penjualan Bersih Z-Score</th>\n",
       "      <th>Penjualan Bersih Max Abs</th>\n",
       "    </tr>\n",
       "    <tr>\n",
       "      <th>Nama Pelanggan</th>\n",
       "      <th></th>\n",
       "      <th></th>\n",
       "      <th></th>\n",
       "      <th></th>\n",
       "      <th></th>\n",
       "      <th></th>\n",
       "      <th></th>\n",
       "      <th></th>\n",
       "      <th></th>\n",
       "      <th></th>\n",
       "      <th></th>\n",
       "      <th></th>\n",
       "      <th></th>\n",
       "    </tr>\n",
       "  </thead>\n",
       "  <tbody>\n",
       "    <tr>\n",
       "      <th>Toko Nofri</th>\n",
       "      <td>1</td>\n",
       "      <td>1-Aug</td>\n",
       "      <td>NF-01</td>\n",
       "      <td>B-05</td>\n",
       "      <td>Besi 5 Meter</td>\n",
       "      <td>340</td>\n",
       "      <td>200000</td>\n",
       "      <td>68000000</td>\n",
       "      <td>0.1</td>\n",
       "      <td>61200000</td>\n",
       "      <td>0.221622</td>\n",
       "      <td>-0.148405</td>\n",
       "      <td>0.261538</td>\n",
       "    </tr>\n",
       "    <tr>\n",
       "      <th>Toko Anton</th>\n",
       "      <td>2</td>\n",
       "      <td>1-Aug</td>\n",
       "      <td>AN-02</td>\n",
       "      <td>B-10</td>\n",
       "      <td>Besi 10 Meter</td>\n",
       "      <td>140</td>\n",
       "      <td>375000</td>\n",
       "      <td>52500000</td>\n",
       "      <td>0.0</td>\n",
       "      <td>52500000</td>\n",
       "      <td>0.182432</td>\n",
       "      <td>-0.306308</td>\n",
       "      <td>0.224359</td>\n",
       "    </tr>\n",
       "    <tr>\n",
       "      <th>Toko Central</th>\n",
       "      <td>3</td>\n",
       "      <td>1-Aug</td>\n",
       "      <td>CT-03</td>\n",
       "      <td>P-5</td>\n",
       "      <td>Pipa 5 Meter</td>\n",
       "      <td>560</td>\n",
       "      <td>100000</td>\n",
       "      <td>56000000</td>\n",
       "      <td>0.2</td>\n",
       "      <td>44800000</td>\n",
       "      <td>0.147748</td>\n",
       "      <td>-0.446061</td>\n",
       "      <td>0.191453</td>\n",
       "    </tr>\n",
       "    <tr>\n",
       "      <th>Toko Central</th>\n",
       "      <td>4</td>\n",
       "      <td>2-Aug</td>\n",
       "      <td>CT-03</td>\n",
       "      <td>P-10</td>\n",
       "      <td>Pipa 10 Meter</td>\n",
       "      <td>230</td>\n",
       "      <td>185000</td>\n",
       "      <td>42550000</td>\n",
       "      <td>0.1</td>\n",
       "      <td>38295000</td>\n",
       "      <td>0.118446</td>\n",
       "      <td>-0.564125</td>\n",
       "      <td>0.163654</td>\n",
       "    </tr>\n",
       "    <tr>\n",
       "      <th>Toko Anton</th>\n",
       "      <td>5</td>\n",
       "      <td>2-Aug</td>\n",
       "      <td>AN-02</td>\n",
       "      <td>B-05</td>\n",
       "      <td>Besi 5 Meter</td>\n",
       "      <td>770</td>\n",
       "      <td>200000</td>\n",
       "      <td>154000000</td>\n",
       "      <td>0.2</td>\n",
       "      <td>123200000</td>\n",
       "      <td>0.500901</td>\n",
       "      <td>0.976881</td>\n",
       "      <td>0.526496</td>\n",
       "    </tr>\n",
       "    <tr>\n",
       "      <th>Toko Nofri</th>\n",
       "      <td>6</td>\n",
       "      <td>2-Aug</td>\n",
       "      <td>NF-01</td>\n",
       "      <td>B-10</td>\n",
       "      <td>Besi 10 Meter</td>\n",
       "      <td>780</td>\n",
       "      <td>375000</td>\n",
       "      <td>292500000</td>\n",
       "      <td>0.2</td>\n",
       "      <td>234000000</td>\n",
       "      <td>1.000000</td>\n",
       "      <td>2.987875</td>\n",
       "      <td>1.000000</td>\n",
       "    </tr>\n",
       "    <tr>\n",
       "      <th>Toko Anton</th>\n",
       "      <td>7</td>\n",
       "      <td>2-Aug</td>\n",
       "      <td>AN-02</td>\n",
       "      <td>P-5</td>\n",
       "      <td>Pipa 5 Meter</td>\n",
       "      <td>300</td>\n",
       "      <td>100000</td>\n",
       "      <td>30000000</td>\n",
       "      <td>0.1</td>\n",
       "      <td>27000000</td>\n",
       "      <td>0.067568</td>\n",
       "      <td>-0.769127</td>\n",
       "      <td>0.115385</td>\n",
       "    </tr>\n",
       "    <tr>\n",
       "      <th>Toko Nofri</th>\n",
       "      <td>8</td>\n",
       "      <td>2-Aug</td>\n",
       "      <td>NF-01</td>\n",
       "      <td>P-10</td>\n",
       "      <td>Pipa 10 Meter</td>\n",
       "      <td>790</td>\n",
       "      <td>185000</td>\n",
       "      <td>146150000</td>\n",
       "      <td>0.2</td>\n",
       "      <td>116920000</td>\n",
       "      <td>0.472613</td>\n",
       "      <td>0.862900</td>\n",
       "      <td>0.499658</td>\n",
       "    </tr>\n",
       "    <tr>\n",
       "      <th>Toko Central</th>\n",
       "      <td>9</td>\n",
       "      <td>2-Aug</td>\n",
       "      <td>CT-03</td>\n",
       "      <td>B-05</td>\n",
       "      <td>Besi 5 Meter</td>\n",
       "      <td>440</td>\n",
       "      <td>200000</td>\n",
       "      <td>88000000</td>\n",
       "      <td>0.1</td>\n",
       "      <td>79200000</td>\n",
       "      <td>0.302703</td>\n",
       "      <td>0.178291</td>\n",
       "      <td>0.338462</td>\n",
       "    </tr>\n",
       "    <tr>\n",
       "      <th>Toko Anton</th>\n",
       "      <td>10</td>\n",
       "      <td>2-Aug</td>\n",
       "      <td>AN-02</td>\n",
       "      <td>B-10</td>\n",
       "      <td>Besi 10 Meter</td>\n",
       "      <td>130</td>\n",
       "      <td>375000</td>\n",
       "      <td>48750000</td>\n",
       "      <td>0.0</td>\n",
       "      <td>48750000</td>\n",
       "      <td>0.165541</td>\n",
       "      <td>-0.374369</td>\n",
       "      <td>0.208333</td>\n",
       "    </tr>\n",
       "    <tr>\n",
       "      <th>Toko Nofri</th>\n",
       "      <td>11</td>\n",
       "      <td>3-Aug</td>\n",
       "      <td>NF-01</td>\n",
       "      <td>P-5</td>\n",
       "      <td>Pipa 5 Meter</td>\n",
       "      <td>360</td>\n",
       "      <td>100000</td>\n",
       "      <td>36000000</td>\n",
       "      <td>0.1</td>\n",
       "      <td>32400000</td>\n",
       "      <td>0.091892</td>\n",
       "      <td>-0.671118</td>\n",
       "      <td>0.138462</td>\n",
       "    </tr>\n",
       "    <tr>\n",
       "      <th>Toko Nofri</th>\n",
       "      <td>12</td>\n",
       "      <td>3-Aug</td>\n",
       "      <td>NF-01</td>\n",
       "      <td>P-10</td>\n",
       "      <td>Pipa 10 Meter</td>\n",
       "      <td>120</td>\n",
       "      <td>185000</td>\n",
       "      <td>22200000</td>\n",
       "      <td>0.0</td>\n",
       "      <td>22200000</td>\n",
       "      <td>0.045946</td>\n",
       "      <td>-0.856245</td>\n",
       "      <td>0.094872</td>\n",
       "    </tr>\n",
       "    <tr>\n",
       "      <th>Toko Anton</th>\n",
       "      <td>13</td>\n",
       "      <td>3-Aug</td>\n",
       "      <td>AN-02</td>\n",
       "      <td>P-5</td>\n",
       "      <td>Pipa 5 Meter</td>\n",
       "      <td>120</td>\n",
       "      <td>100000</td>\n",
       "      <td>12000000</td>\n",
       "      <td>0.0</td>\n",
       "      <td>12000000</td>\n",
       "      <td>0.000000</td>\n",
       "      <td>-1.041373</td>\n",
       "      <td>0.051282</td>\n",
       "    </tr>\n",
       "    <tr>\n",
       "      <th>Toko Nofri</th>\n",
       "      <td>14</td>\n",
       "      <td>3-Aug</td>\n",
       "      <td>NF-01</td>\n",
       "      <td>P-10</td>\n",
       "      <td>Pipa 10 Meter</td>\n",
       "      <td>720</td>\n",
       "      <td>185000</td>\n",
       "      <td>133200000</td>\n",
       "      <td>0.2</td>\n",
       "      <td>106560000</td>\n",
       "      <td>0.425946</td>\n",
       "      <td>0.674869</td>\n",
       "      <td>0.455385</td>\n",
       "    </tr>\n",
       "    <tr>\n",
       "      <th>Toko Central</th>\n",
       "      <td>15</td>\n",
       "      <td>3-Aug</td>\n",
       "      <td>CT-03</td>\n",
       "      <td>P-10</td>\n",
       "      <td>Pipa 10 Meter</td>\n",
       "      <td>250</td>\n",
       "      <td>185000</td>\n",
       "      <td>46250000</td>\n",
       "      <td>0.1</td>\n",
       "      <td>41625000</td>\n",
       "      <td>0.133446</td>\n",
       "      <td>-0.503686</td>\n",
       "      <td>0.177885</td>\n",
       "    </tr>\n",
       "  </tbody>\n",
       "</table>\n",
       "</div>"
      ],
      "text/plain": [
       "                No Tanggal Kode Pelanggan Kode Produk    Nama Produk  Qty  \\\n",
       "Nama Pelanggan                                                              \n",
       "Toko Nofri       1   1-Aug          NF-01        B-05   Besi 5 Meter  340   \n",
       "Toko Anton       2   1-Aug          AN-02        B-10  Besi 10 Meter  140   \n",
       "Toko Central     3   1-Aug          CT-03         P-5   Pipa 5 Meter  560   \n",
       "Toko Central     4   2-Aug          CT-03        P-10  Pipa 10 Meter  230   \n",
       "Toko Anton       5   2-Aug          AN-02        B-05   Besi 5 Meter  770   \n",
       "Toko Nofri       6   2-Aug          NF-01        B-10  Besi 10 Meter  780   \n",
       "Toko Anton       7   2-Aug          AN-02         P-5   Pipa 5 Meter  300   \n",
       "Toko Nofri       8   2-Aug          NF-01        P-10  Pipa 10 Meter  790   \n",
       "Toko Central     9   2-Aug          CT-03        B-05   Besi 5 Meter  440   \n",
       "Toko Anton      10   2-Aug          AN-02        B-10  Besi 10 Meter  130   \n",
       "Toko Nofri      11   3-Aug          NF-01         P-5   Pipa 5 Meter  360   \n",
       "Toko Nofri      12   3-Aug          NF-01        P-10  Pipa 10 Meter  120   \n",
       "Toko Anton      13   3-Aug          AN-02         P-5   Pipa 5 Meter  120   \n",
       "Toko Nofri      14   3-Aug          NF-01        P-10  Pipa 10 Meter  720   \n",
       "Toko Central    15   3-Aug          CT-03        P-10  Pipa 10 Meter  250   \n",
       "\n",
       "                Harga Satuan  Total Penjualan  Diskon  Penjualan Bersih  \\\n",
       "Nama Pelanggan                                                            \n",
       "Toko Nofri            200000         68000000     0.1          61200000   \n",
       "Toko Anton            375000         52500000     0.0          52500000   \n",
       "Toko Central          100000         56000000     0.2          44800000   \n",
       "Toko Central          185000         42550000     0.1          38295000   \n",
       "Toko Anton            200000        154000000     0.2         123200000   \n",
       "Toko Nofri            375000        292500000     0.2         234000000   \n",
       "Toko Anton            100000         30000000     0.1          27000000   \n",
       "Toko Nofri            185000        146150000     0.2         116920000   \n",
       "Toko Central          200000         88000000     0.1          79200000   \n",
       "Toko Anton            375000         48750000     0.0          48750000   \n",
       "Toko Nofri            100000         36000000     0.1          32400000   \n",
       "Toko Nofri            185000         22200000     0.0          22200000   \n",
       "Toko Anton            100000         12000000     0.0          12000000   \n",
       "Toko Nofri            185000        133200000     0.2         106560000   \n",
       "Toko Central          185000         46250000     0.1          41625000   \n",
       "\n",
       "                Penjualan Bersih Min-Max  Penjualan Bersih Z-Score  \\\n",
       "Nama Pelanggan                                                       \n",
       "Toko Nofri                      0.221622                 -0.148405   \n",
       "Toko Anton                      0.182432                 -0.306308   \n",
       "Toko Central                    0.147748                 -0.446061   \n",
       "Toko Central                    0.118446                 -0.564125   \n",
       "Toko Anton                      0.500901                  0.976881   \n",
       "Toko Nofri                      1.000000                  2.987875   \n",
       "Toko Anton                      0.067568                 -0.769127   \n",
       "Toko Nofri                      0.472613                  0.862900   \n",
       "Toko Central                    0.302703                  0.178291   \n",
       "Toko Anton                      0.165541                 -0.374369   \n",
       "Toko Nofri                      0.091892                 -0.671118   \n",
       "Toko Nofri                      0.045946                 -0.856245   \n",
       "Toko Anton                      0.000000                 -1.041373   \n",
       "Toko Nofri                      0.425946                  0.674869   \n",
       "Toko Central                    0.133446                 -0.503686   \n",
       "\n",
       "                Penjualan Bersih Max Abs  \n",
       "Nama Pelanggan                            \n",
       "Toko Nofri                      0.261538  \n",
       "Toko Anton                      0.224359  \n",
       "Toko Central                    0.191453  \n",
       "Toko Central                    0.163654  \n",
       "Toko Anton                      0.526496  \n",
       "Toko Nofri                      1.000000  \n",
       "Toko Anton                      0.115385  \n",
       "Toko Nofri                      0.499658  \n",
       "Toko Central                    0.338462  \n",
       "Toko Anton                      0.208333  \n",
       "Toko Nofri                      0.138462  \n",
       "Toko Nofri                      0.094872  \n",
       "Toko Anton                      0.051282  \n",
       "Toko Nofri                      0.455385  \n",
       "Toko Central                    0.177885  "
      ]
     },
     "execution_count": 31,
     "metadata": {},
     "output_type": "execute_result"
    }
   ],
   "source": [
    "# Menjadikan identifier sebagai index agar memudahkan mengambil sebuah data\n",
    "df.set_index('Nama Pelanggan', inplace=True)\n",
    "df"
   ]
  },
  {
   "cell_type": "code",
   "execution_count": 8,
   "id": "62806a70-a2e3-40f8-9c6b-0bfffc164ae8",
   "metadata": {},
   "outputs": [
    {
     "data": {
      "text/plain": [
       "<Axes: >"
      ]
     },
     "execution_count": 8,
     "metadata": {},
     "output_type": "execute_result"
    },
    {
     "data": {
      "image/png": "[encoded data removed]",
      "text/plain": [
       "<Figure size 640x480 with 1 Axes>"
      ]
     },
     "metadata": {},
     "output_type": "display_data"
    }
   ],
   "source": [
    "# Visualisasi\n",
    "df.boxplot(column=['Qty', 'Harga Satuan', 'Total Penjualan', 'Diskon', 'Penjualan Bersih'])\n",
    "\n"
   ]
  },
  {
   "cell_type": "code",
   "execution_count": 10,
   "id": "ea199d09-3110-4e89-a69b-4cd580f2bbf5",
   "metadata": {},
   "outputs": [
    {
     "name": "stdout",
     "output_type": "stream",
     "text": [
      "Outlier Total Penjualan:\n",
      "   No Tanggal Kode Pelanggan Nama Pelanggan Kode Produk    Nama Produk  Qty  \\\n",
      "5   6   2-Aug          NF-01     Toko Nofri        B-10  Besi 10 Meter  780   \n",
      "\n",
      "   Harga Satuan  Total Penjualan  Diskon  Penjualan Bersih  \n",
      "5        375000        292500000     0.2         234000000  \n"
     ]
    }
   ],
   "source": [
    "lower_bound = q1 - 1.5 * iqr\n",
    "upper_bound = q3 + 1.5 * iqr\n",
    "\n",
    "# Temukan outlier dalam DataFrame\n",
    "outliers = df[(df['Total Penjualan'] < lower_bound) | (df['Total Penjualan'] > upper_bound)]\n",
    "\n",
    "print(\"Outlier Total Penjualan:\")\n",
    "print(outliers)"
   ]
  },
  {
   "cell_type": "code",
   "execution_count": 20,
   "id": "d81ec4fd-6369-46d0-bf94-cdcb69c5756c",
   "metadata": {},
   "outputs": [
    {
     "data": {
      "image/png": "[encoded data removed]",
      "text/plain": [
       "<Figure size 1000x600 with 1 Axes>"
      ]
     },
     "metadata": {},
     "output_type": "display_data"
    }
   ],
   "source": [
    "import matplotlib.pyplot as plt\n",
    "\n",
    "product_counts = df[\"Nama Produk\"].value_counts()\n",
    "\n",
    "# ukuran gambar\n",
    "plt.figure(figsize=(10, 6))\n",
    "\n",
    "# membuat diagram batangnya\n",
    "product_counts.plot(kind='bar', color='yellow', edgecolor='black')\n",
    "\n",
    "# membuat Label untuk diagram\n",
    "plt.title('Frekuensi Nama Produk')\n",
    "plt.xlabel('Nama Produk')\n",
    "plt.ylabel('Frekuensi')\n",
    "\n",
    "# sumbu x diputar agar rapih\n",
    "plt.xticks(rotation=45)\n",
    "\n",
    "# menampilkan diagram\n",
    "plt.show()\n",
    "\n"
   ]
  },
  {
   "cell_type": "code",
   "execution_count": 26,
   "id": "d302e073-5872-45c7-9363-1588488741ce",
   "metadata": {},
   "outputs": [
    {
     "data": {
      "image/png": "[encoded data removed]",
      "text/plain": [
       "<Figure size 800x800 with 1 Axes>"
      ]
     },
     "metadata": {},
     "output_type": "display_data"
    }
   ],
   "source": [
    "# Pie chart untuk proporsi diskon\n",
    "plt.figure(figsize=(8, 8))\n",
    "df.groupby('Diskon')['Penjualan Bersih'].sum().plot(kind='pie', autopct='%1.1f%%', colors=['yellow','green', 'pink'])\n",
    "\n",
    "# Menambahkan label dan judul\n",
    "plt.title('Proporsi Penjualan Bersih Berdasarkan Diskon', fontsize=14)\n",
    "plt.ylabel('')\n",
    "\n",
    "# Menampilkan plot\n",
    "plt.show()\n"
   ]
  },
  {
   "cell_type": "code",
   "execution_count": 27,
   "id": "b3924556-fe1c-4234-863c-b20a81cee028",
   "metadata": {},
   "outputs": [
    {
     "name": "stdout",
     "output_type": "stream",
     "text": [
      "    Penjualan Bersih  Penjualan Bersih Min-Max\n",
      "0           61200000                  0.221622\n",
      "1           52500000                  0.182432\n",
      "2           44800000                  0.147748\n",
      "3           38295000                  0.118446\n",
      "4          123200000                  0.500901\n",
      "5          234000000                  1.000000\n",
      "6           27000000                  0.067568\n",
      "7          116920000                  0.472613\n",
      "8           79200000                  0.302703\n",
      "9           48750000                  0.165541\n",
      "10          32400000                  0.091892\n",
      "11          22200000                  0.045946\n",
      "12          12000000                  0.000000\n",
      "13         106560000                  0.425946\n",
      "14          41625000                  0.133446\n"
     ]
    }
   ],
   "source": [
    "#Normalisasi\n",
    "from sklearn.preprocessing import MinMaxScaler\n",
    "\n",
    "# Inisialisasi Min-Max Scaler\n",
    "scaler = MinMaxScaler()\n",
    "\n",
    "# Normalisasi kolom Penjualan Bersih\n",
    "df['Penjualan Bersih Min-Max'] = scaler.fit_transform(df[['Penjualan Bersih']])\n",
    "\n",
    "# Menampilkan hasil normalisasi\n",
    "print(df[['Penjualan Bersih', 'Penjualan Bersih Min-Max']])\n"
   ]
  },
  {
   "cell_type": "code",
   "execution_count": 28,
   "id": "5477b565-31d3-46b4-b86f-3c42c9944183",
   "metadata": {},
   "outputs": [
    {
     "name": "stdout",
     "output_type": "stream",
     "text": [
      "    Penjualan Bersih  Penjualan Bersih Z-Score\n",
      "0           61200000                 -0.148405\n",
      "1           52500000                 -0.306308\n",
      "2           44800000                 -0.446061\n",
      "3           38295000                 -0.564125\n",
      "4          123200000                  0.976881\n",
      "5          234000000                  2.987875\n",
      "6           27000000                 -0.769127\n",
      "7          116920000                  0.862900\n",
      "8           79200000                  0.178291\n",
      "9           48750000                 -0.374369\n",
      "10          32400000                 -0.671118\n",
      "11          22200000                 -0.856245\n",
      "12          12000000                 -1.041373\n",
      "13         106560000                  0.674869\n",
      "14          41625000                 -0.503686\n"
     ]
    }
   ],
   "source": [
    "# Normalisasi\n",
    "from sklearn.preprocessing import StandardScaler\n",
    "\n",
    "# Inisialisasi Standard Scaler\n",
    "scaler = StandardScaler()\n",
    "\n",
    "# Menormalisasi kolom Penjualan Bersih menggunakan Z-Score\n",
    "df['Penjualan Bersih Z-Score'] = scaler.fit_transform(df[['Penjualan Bersih']])\n",
    "\n",
    "# Menampilkan hasil normalisasi\n",
    "print(df[['Penjualan Bersih', 'Penjualan Bersih Z-Score']])\n"
   ]
  },
  {
   "cell_type": "code",
   "execution_count": 29,
   "id": "73aae6e0-566d-40d6-b31c-d17800cc78ab",
   "metadata": {},
   "outputs": [
    {
     "name": "stdout",
     "output_type": "stream",
     "text": [
      "    Penjualan Bersih  Penjualan Bersih Max Abs\n",
      "0           61200000                  0.261538\n",
      "1           52500000                  0.224359\n",
      "2           44800000                  0.191453\n",
      "3           38295000                  0.163654\n",
      "4          123200000                  0.526496\n",
      "5          234000000                  1.000000\n",
      "6           27000000                  0.115385\n",
      "7          116920000                  0.499658\n",
      "8           79200000                  0.338462\n",
      "9           48750000                  0.208333\n",
      "10          32400000                  0.138462\n",
      "11          22200000                  0.094872\n",
      "12          12000000                  0.051282\n",
      "13         106560000                  0.455385\n",
      "14          41625000                  0.177885\n"
     ]
    }
   ],
   "source": [
    "# Normalisasi\n",
    "from sklearn.preprocessing import MaxAbsScaler\n",
    "\n",
    "# Inisialisasi MaxAbsScaler\n",
    "scaler = MaxAbsScaler()\n",
    "\n",
    "# Normalisasi kolom Penjualan Bersih dengan Max Abs Scaler\n",
    "df['Penjualan Bersih Max Abs'] = scaler.fit_transform(df[['Penjualan Bersih']])\n",
    "\n",
    "# Menampilkan hasil normalisasi\n",
    "print(df[['Penjualan Bersih', 'Penjualan Bersih Max Abs']])\n"
   ]
  }
 ],
 "metadata": {
  "kernelspec": {
   "display_name": "Python 3 (ipykernel)",
   "language": "python",
   "name": "python3"
  },
  "language_info": {
   "codemirror_mode": {
    "name": "ipython",
    "version": 3
   },
   "file_extension": ".py",
   "mimetype": "text/x-python",
   "name": "python",
   "nbconvert_exporter": "python",
   "pygments_lexer": "ipython3",
   "version": "3.11.6"
  }
 },
 "nbformat": 4,
 "nbformat_minor": 5
}
